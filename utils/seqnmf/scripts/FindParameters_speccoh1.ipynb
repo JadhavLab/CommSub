{
 "cells": [
  {
   "cell_type": "markdown",
   "metadata": {},
   "source": [
    "# Setup"
   ]
  },
  {
   "cell_type": "code",
   "execution_count": 1,
   "metadata": {},
   "outputs": [
    {
     "name": "stdout",
     "output_type": "stream",
     "text": [
      "Entering /home/ryoung/Projects/regionalspec\n",
      "Entering /home/ryoung/Projects\n"
     ]
    }
   ],
   "source": [
    "warning off; \n",
    "project('seqNMF')\n",
    "warning on"
   ]
  },
  {
   "cell_type": "markdown",
   "metadata": {},
   "source": [
    "Let's get some helper functions"
   ]
  },
  {
   "cell_type": "code",
   "execution_count": 2,
   "metadata": {},
   "outputs": [
    {
     "name": "stdout",
     "output_type": "stream",
     "text": [
      "Created file '/home/ryoung/Projects/deltacoherence/+utils/restoreVariables.m'.\n"
     ]
    }
   ],
   "source": [
    "%%file ~/Projects/deltacoherence/+utils/restoreVariables.m\n",
    "function restoreVariables(S, where)\n",
    "if nargin == 1\n",
    "where = 'base';\n",
    "end\n",
    "disp('restoring variables')\n",
    "for field = fieldnames(S)'\n",
    "if ~isa(S.(field{1}),'matlab.ui.figure')\n",
    "    try\n",
    "        assignin(where,field{1},S.(field{1}))\n",
    "    catch MatlabException\n",
    "        warning('cannot load %s', field{1})\n",
    "    end\n",
    "end\n",
    "end\n",
    "close all % this is a hack. since I save figures in the matfile, they will appear whenever restoring.\n",
    "disp('restored.')"
   ]
  },
  {
   "cell_type": "markdown",
   "metadata": {},
   "source": [
    "Parametric flags"
   ]
  },
  {
   "cell_type": "code",
   "execution_count": 4,
   "metadata": {
    "scrolled": true
   },
   "outputs": [
    {
     "name": "stdout",
     "output_type": "stream",
     "text": [
      "Warning: Name is nonexistent or not a directory: /home/ryoung/Projects/Shortcut,Data/comodulate_justinex/4th Run\n",
      "> In path (line 109)\n",
      "  In addpath (line 86)\n",
      "  In project (line 41)\n",
      "Warning: Name is nonexistent or not a directory: /home/ryoung/Projects/NDPAC, Regional-TB-Rew\n",
      "> In path (line 109)\n",
      "  In addpath (line 86)\n",
      "  In project (line 41)\n",
      "Warning: Name is nonexistent or not a directory: /home/ryoung/Projects/Shortcut,Data/comodulate_justinex/5th Run\n",
      "> In path (line 109)\n",
      "  In addpath (line 86)\n",
      "  In project (line 41)\n",
      "Warning: Name is nonexistent or not a directory: /home/ryoung/Projects/Narrower Wavelet=10, NDPAC, Regional-TB-Rew\n",
      "> In path (line 109)\n",
      "  In addpath (line 86)\n",
      "  In project (line 41)\n",
      "Warning: Name is nonexistent or not a directory: /home/ryoung/Projects/Shortcut,Data/comodulate_justinex/ThirdRun\n",
      "> In path (line 109)\n",
      "  In addpath (line 86)\n",
      "  In project (line 41)\n",
      "Warning: Name is nonexistent or not a directory: /home/ryoung/Projects/NormalizedDirectedPAC\n",
      "> In path (line 109)\n",
      "  In addpath (line 86)\n",
      "  In project (line 41)\n",
      "Warning: Package directories not allowed in MATLAB path: /home/ryoung/Projects/deltacoherence/linked_axlib\n",
      "> In path (line 109)\n",
      "  In addpath (line 86)\n",
      "  In project (line 41)\n",
      "Warning: Package directories not allowed in MATLAB path: /home/ryoung/Projects/deltacoherence/linked_characterize\n",
      "> In path (line 109)\n",
      "  In addpath (line 86)\n",
      "  In project (line 41)\n",
      "Warning: Package directories not allowed in MATLAB path: /home/ryoung/Projects/deltacoherence/linked_compute\n",
      "> In path (line 109)\n",
      "  In addpath (line 86)\n",
      "  In project (line 41)\n",
      "Warning: Package directories not allowed in MATLAB path: /home/ryoung/Projects/deltacoherence/linked_labeler\n",
      "> In path (line 109)\n",
      "  In addpath (line 86)\n",
      "  In project (line 41)\n",
      "Warning: Package directories not allowed in MATLAB path: /home/ryoung/Projects/deltacoherence/linked_seqlibrary\n",
      "> In path (line 109)\n",
      "  In addpath (line 86)\n",
      "  In project (line 41)\n",
      "Warning: Package directories not allowed in MATLAB path: /home/ryoung/Projects/deltacoherence/linked_sieve\n",
      "> In path (line 109)\n",
      "  In addpath (line 86)\n",
      "  In project (line 41)\n",
      "Warning: Package directories not allowed in MATLAB path: /home/ryoung/Projects/deltacoherence/linked_verify\n",
      "> In path (line 109)\n",
      "  In addpath (line 86)\n",
      "  In project (line 41)\n",
      "Warning: Directory access failure: /home/ryoung/Projects/information/doc/TransferStuff/TransferStuff/TransferStuff/TransferStuff/TransferStuff/TransferStuff/TransferStuff/TransferStuff/TransferStuff/TransferStuff/TransferStuff/TransferStuff/TransferStuff/TransferStuff/TransferStuff/TransferStuff/TransferStuff/TransferStuff/TransferStuff/TransferStuff/TransferStuff/TransferStuff/TransferStuff/TransferStuff/TransferStuff/TransferStuff/TransferStuff/TransferStuff/TransferStuff/TransferStuff/TransferStuff/TransferStuff/TransferStuff/TransferStuff/TransferStuff/TransferStuff/TransferStuff/TransferStuff/TransferStuff/TransferStuff/TransferStuff\n",
      "> In path (line 109)\n",
      "  In addpath (line 86)\n",
      "  In project (line 41)\n",
      "Entering /home/ryoung/Projects\n",
      "Entering /home/ryoung/Projects\n",
      "Using animal info at ~/Data/Raw/SingleDayExpt/JS12_direct/ \n",
      "Using animal info at ~/Data/Raw/SingleDayExpt/JS13_direct/ \n",
      "Using animal info at ~/Data/Raw/SingleDayExpt/JS14_direct/ \n",
      "Using animal info at ~/Data/Raw/SingleDayExpt/JS15_direct/ \n",
      "Using animal info at ~/Data/Raw/SingleDayExpt/JS21_direct/ \n",
      "Using animal info at ~/Data/Raw/SingleDayExpt/ER1_NEW_direct/ \n",
      "Using animal info at ~/Data/Raw/SingleDayExpt/KL8_direct/ \n"
     ]
    }
   ],
   "source": [
    "% Flags\n",
    "skipMaster = true;\n",
    "storeDatBeforeSubsamp = true;\n",
    "subsample = 0.085; % fraction of data to sample\n",
    "resultsFolder = project('seqNMF');\n",
    "\n",
    "% -----------------------\n",
    "% Add animal data to path\n",
    "% ------------------------\n",
    "animal_list = {'JS12','JS13','JS14','JS15','JS21','ER1','KL8'};\n",
    "for animal = animal_list\n",
    "    animalToPath(animal{1});\n",
    "end"
   ]
  },
  {
   "cell_type": "code",
   "execution_count": 5,
   "metadata": {},
   "outputs": [],
   "source": [
    "reloadFromMemory = false;\n",
    "session = 1;"
   ]
  },
  {
   "cell_type": "markdown",
   "metadata": {},
   "source": [
    "## Load from data "
   ]
  },
  {
   "cell_type": "code",
   "execution_count": 12,
   "metadata": {},
   "outputs": [
    {
     "name": "stdout",
     "output_type": "stream",
     "text": [
      "Available paramsets:\n",
      "\n",
      "paramsetstable =\n",
      "\n",
      "  9x4 table\n",
      "\n",
      "    epoch_type    timescale        type           seqStyle   \n",
      "    __________    _________    ____________    ______________\n",
      "\n",
      "     \"run\"           0.5       \"speccoh\"       \"Events-based\"\n",
      "     \"run\"             1       \"speccoh\"       \"Events-based\"\n",
      "     \"run\"             1       \"trajNoWPLI\"    \"Events-based\"\n",
      "     \"run\"             4       \"speccoh\"       \"Events-based\"\n",
      "     \"run\"             4       \"traj\"          \"Events-based\"\n",
      "     \"run\"             4       \"trajNoWPLI\"    \"Events-based\"\n",
      "     \"run\"            10       \"traj\"          \"\"            \n",
      "     \"run\"            10       \"traj\"          \"Events-based\"\n",
      "     \"sleep\"           3       \"speccoh\"       \"Events-based\"\n",
      "\n",
      "Picked set:\n",
      "\n",
      "paramstable =\n",
      "\n",
      "  1x4 table\n",
      "\n",
      "    epoch_type    timescale      type          seqStyle   \n",
      "    __________    _________    _________    ______________\n",
      "\n",
      "      \"run\"           1        \"speccoh\"    \"Events-based\"\n",
      "\n",
      "\n",
      "params =\n",
      "\n",
      "  1x4 cell array\n",
      "\n",
      "    {[\"run\"]}    {[1]}    {[\"speccoh\"]}    {[\"Events-based\"]}\n",
      "\n"
     ]
    }
   ],
   "source": [
    "if reloadFromMemory == false\n",
    "    InitializeParamsets;\n",
    "    disp('Available paramsets:')\n",
    "    paramsetstable = unique(removevars(paramsetstable,'K'))\n",
    "    % Deal out each of the parameters into unique variables\n",
    "    disp('Picked set:')\n",
    "    paramstable = paramsetstable(paramsetstable.timescale == 1 & paramsetstable.type==\"speccoh\",:),\n",
    "    params = table2cell(paramstable);\n",
    "end \n",
    "params"
   ]
  },
  {
   "cell_type": "markdown",
   "metadata": {},
   "source": [
    "Actually load data from animals if we're not reloading from checkpoiint"
   ]
  },
  {
   "cell_type": "code",
   "execution_count": null,
   "metadata": {
    "scrolled": true
   },
   "outputs": [
    {
     "name": "stdout",
     "output_type": "stream",
     "text": [
      "\n",
      "lambda =\n",
      "\n",
      "   9.0000e-04\n",
      "\n",
      "Orthoname = Events-based\n",
      "\n",
      "ans = \n",
      "\n",
      "  Map with properties:\n",
      "\n",
      "        Count: 1\n",
      "      KeyType: char\n",
      "    ValueType: any\n",
      "\n",
      "    \"seqnmf with \"    \"speccoh\"\n",
      "\n",
      "Using animal info at ~/Data/Raw/SingleDayExpt/JS12_direct/ \n",
      "Processing\n",
      "Processing\n",
      "Processing\n",
      "Processing\n",
      "Processing\n",
      "Processing\n",
      "Processing\n",
      "Processing\n",
      "Processing\n",
      "Using animal info at ~/Data/Raw/SingleDayExpt/JS13_direct/ \n",
      "Processing\n",
      "Processing\n",
      "Processing\n",
      "Processing\n",
      "Processing\n",
      "Processing\n",
      "Processing\n",
      "Processing\n",
      "Using animal info at ~/Data/Raw/SingleDayExpt/JS14_direct/ \n",
      "Processing\n",
      "Processing\n",
      "Processing\n",
      "Processing\n",
      "Processing\n",
      "Processing\n",
      "Processing\n",
      "Processing\n",
      "Using animal info at ~/Data/Raw/SingleDayExpt/JS15_direct/ \n",
      "Processing\n",
      "Processing\n",
      "Processing\n",
      "Processing\n",
      "Processing\n",
      "Processing\n",
      "Processing\n",
      "Processing\n",
      "Using animal info at ~/Data/Raw/SingleDayExpt/JS21_direct/ \n",
      "Processing\n",
      "Processing\n",
      "Processing\n",
      "Processing\n",
      "Processing\n",
      "Processing\n",
      "Processing\n",
      "Processing\n",
      "Using animal info at ~/Data/Raw/SingleDayExpt/ER1_NEW_direct/ \n",
      "Processing\n",
      "Processing\n",
      "Processing\n",
      "Processing\n",
      "Processing\n",
      "Processing\n",
      "Processing\n",
      "Processing\n",
      "Using animal info at ~/Data/Raw/SingleDayExpt/KL8_direct/ \n",
      "Processing\n",
      "Processing\n",
      "Processing\n",
      "Processing\n",
      "Processing\n",
      "Processing\n",
      "Processing\n",
      "Processing\n",
      "Total seconds of data: 61677.04\n",
      "Before\n",
      "\n",
      "ans =\n",
      "\n",
      "         882     2434677\n",
      "\n",
      "\n",
      "fields =\n",
      "\n",
      "  1x7 cell array\n",
      "\n",
      "  Columns 1 through 6\n",
      "\n",
      "    {'data'}    {'S1'}    {'S2'}    {'wpli'}    {'velocity'}    {'t'}\n",
      "\n",
      "  Column 7\n",
      "\n",
      "    {'orig_velocity'}\n",
      "\n"
     ]
    }
   ],
   "source": [
    "if reloadFromMemory  == false\n",
    "    [epoch_type, timescale, fieldstr, seqStyle] = deal( params{:} );\n",
    "    seq.initialize('epoch_type', epoch_type,'timescale', timescale, 'fieldstr',...\n",
    "                    fieldstr, 'orthoName', seqStyle, 'skipList', {'K'}, 'maxiter', 450);\n",
    "    seqnmf_kws.remove({'K','lambda','lambdaOrthoH','lambdaOrthoW'})\n",
    "    kws = seq.container2kws(seqnmf_kws);\n",
    "    folder = seqnmf_folder(fieldstr, kws{:}, 'timescale', timescale, ...\n",
    "                            'epoch_type', char(epoch_type), 'usedate', false);\n",
    "    GetData;\n",
    "\n",
    "    X = data.data;\n",
    "    trainNEURAL = data.data;\n",
    "    testNEURAL = data.pre.data(:,~data.subsample_logical);\n",
    "\n",
    "    mkdir(fullfile(resultsFolder,'findParams'));\n",
    "    datfolder=fullfile(resultsFolder,'findParams', folder);\n",
    "    if exist(datfolder,'dir')\n",
    "        disp('Result exists');\n",
    "        keyboard;\n",
    "    end\n",
    "    mfileLambda = @(resultsFolder, paramFolder) matfile(fullfile(resultsFolder, 'findParams', 'choosek' + string(folder)), 'Writable', true);\n",
    "    mfile = mfileLambda(resultsFolder, folder)\n",
    "    mfile.params = paramstable\n",
    "    mfile.data = data;\n",
    "end"
   ]
  },
  {
   "cell_type": "markdown",
   "metadata": {},
   "source": [
    "## Load from checkpoint\n",
    "This cell would load from checkpoint if not a de novo session."
   ]
  },
  {
   "cell_type": "code",
   "execution_count": null,
   "metadata": {},
   "outputs": [],
   "source": [
    "if reloadFromMemory == true\n",
    "    load(sprintf('~/Data/deltacoherence/seqnmf_currentstate_window%d.mat',session))\n",
    "    disp('done')\n",
    "    mfile = matfile('~/Data/deltacoherence/findParams/choosekrun.seqnmf_speccoh_1');\n",
    "end"
   ]
  },
  {
   "cell_type": "markdown",
   "metadata": {},
   "source": [
    "# Choose $K$: The number of patterns"
   ]
  },
  {
   "cell_type": "code",
   "execution_count": 29,
   "metadata": {},
   "outputs": [
    {
     "name": "stdout",
     "output_type": "stream",
     "text": [
      "Samples = 20 with length = 12000 points for 5 minutes\n"
     ]
    }
   ],
   "source": [
    "nSamp = 20;\n",
    "samprate = data.params.movingwin(2);\n",
    "sample_length = round((60*5)/samprate);\n",
    "[nPattern, nTime] = size(X);\n",
    "disp(\"Samples = \" + nSamp + \" with length = \" + sample_length +...\n",
    "     \" points for \" + (sample_length/60)*data.params.movingwin(2) + \" minutes\")"
   ]
  },
  {
   "cell_type": "code",
   "execution_count": 31,
   "metadata": {},
   "outputs": [],
   "source": [
    "nFits = 3; %number of fits to compare\n",
    "kset = 1:12;\n",
    "ksubset = kset;\n",
    "Ws = cell(nSamp, nFits, numel(ksubset));\n",
    "Hs = cell(nSamp, nFits, numel(ksubset));\n",
    "Diss = zeros(nSamp, nFits, numel(ksubset));\n"
   ]
  },
  {
   "cell_type": "code",
   "execution_count": null,
   "metadata": {},
   "outputs": [
    {
     "name": "stdout",
     "output_type": "stream",
     "text": [
      "\n",
      "p = \n",
      "\n",
      "  ProgressBar with properties:\n",
      "\n",
      "     TIMER_TAG_NAME: 'ProgressBar'\n",
      "            VERSION: '3.1.0'\n",
      "              Total: 720\n",
      "              Title: 'Choosing K'\n",
      "         UpdateRate: 5\n",
      "               Unit: 'Iterations'\n",
      "    WorkerDirectory: '/tmp/'\n",
      "         UseUnicode: true\n",
      "         IsParallel: false\n",
      "\n",
      "running seqNMF with K = 1\n",
      "SeqNMF_gpu:  000%  |                                        | 0/140 [00:00:00<Inf:NaN:NaN, Inf it/s]"
     ]
    }
   ],
   "source": [
    "%% Procedure for choosing K\n",
    "diary_file = '~/Data/deltacoherence/findParams/lambdadiary-choosekrun.seqnmf_speccoh_1';\n",
    "if exist(diary_file,'file'); delete(diary_file); end\n",
    "diary(diary_file)\n",
    "p = ProgressBar(numel(ksubset) * nSamp * nFits, 'Title', 'Choosing K')\n",
    "for samp = 1:nSamp\n",
    "    % Which sample ranges\n",
    "    samples = randi([1, nTime-sample_length], 1, nSamp)';\n",
    "    samples = [samples, samples+sample_length];\n",
    "    for k = ksubset\n",
    "        display(sprintf('running seqNMF with K = %i',k))\n",
    "        % Fit seqnmf numfits times\n",
    "        for ii = 1:nFits\n",
    "            [Ws{samp,ii,k},Hs{samp,ii,k}] = seqNMF_gpu(X(:, samples(samp,1):samples(samp,2)),'K',k, 'L', L,'lambda', 0,'maxiter',140,'showplot',0); \n",
    "            % note that max iter set low (30iter) for speed in demo (not recommended in practice)\n",
    "        end\n",
    "        inds = nchoosek(1:nFits,2);\n",
    "        % Find dissimilarity\n",
    "        for i = 1:size(inds,1) % consider using parfor for larger numfits\n",
    "            Diss(samp, i,k) = helper.DISSX(Hs{samp,inds(i,1),k},Ws{samp,inds(i,1),k},...\n",
    "                Hs{samp, inds(i,2),k},Ws{samp, inds(i,2),k});\n",
    "        end\n",
    "        p.step([],[],[]);\n",
    "    end\n",
    "    choosek = struct('Diss',Diss, 'nFits', nFits, 'nSamp', nSamp, 'ksubset', ksubset);\n",
    "    choosek.Ws = Ws;\n",
    "    choosek.Hs = Hs;\n",
    "    mfile.choosek = choosek;\n",
    "end\n",
    "toc"
   ]
  },
  {
   "cell_type": "markdown",
   "metadata": {},
   "source": [
    "Restore variables, if not already in memory. This is mainly if you leave the script and reload from checkpoint."
   ]
  },
  {
   "cell_type": "code",
   "execution_count": null,
   "metadata": {},
   "outputs": [],
   "source": [
    "choosek = mfile.choosek;\n",
    "utils.restoreVariables(choosek);\n",
    "close all"
   ]
  },
  {
   "cell_type": "code",
   "execution_count": 94,
   "metadata": {
    "execution": {
     "iopub.execute_input": "2020-06-13T18:00:25.747964Z",
     "iopub.status.busy": "2020-06-13T18:00:25.747580Z",
     "iopub.status.idle": "2020-06-13T18:00:25.777162Z",
     "shell.execute_reply": "2020-06-13T18:00:25.776439Z",
     "shell.execute_reply.started": "2020-06-13T18:00:25.747929Z"
    }
   },
   "outputs": [],
   "source": [
    "[SAMP, KSAMP, Kset] = ndgrid(1:nSamp, 1:size(Diss,2), 1:numel(ksubset));\n",
    "Dtable= table(SAMP(:), KSAMP(:), Kset(:), Diss(:), ...\n",
    "                'VariableNames', {'sample','ksample','k', 'diss'});\n",
    "Diss = reshape(permute(DissR, [3, 1 2]), numel(kset), []);\n",
    "[SAMP, Kset] = ndgrid(1:size(DissR,1), 1:size(DissR,2));\n",
    "sDtable = table(SAMP(:), Kset(:), Diss(:),...\n",
    "                'VariableNames', {'sample','k', 'diss'});"
   ]
  },
  {
   "cell_type": "code",
   "execution_count": 134,
   "metadata": {
    "execution": {
     "iopub.execute_input": "2020-06-13T18:23:50.181058Z",
     "iopub.status.busy": "2020-06-13T18:23:50.180578Z",
     "iopub.status.idle": "2020-06-13T18:23:51.246391Z",
     "shell.execute_reply": "2020-06-13T18:23:51.245562Z",
     "shell.execute_reply.started": "2020-06-13T18:23:50.181021Z"
    }
   },
   "outputs": [
    {
     "name": "stdout",
     "output_type": "stream",
     "text": [
      "\n",
      "K =\n",
      "\n",
      "     8\n",
      "\n"
     ]
    },
    {
     "data": {
      "image/png": "[encoded data removed]",
      "text/plain": [
       "<IPython.core.display.Image object>"
      ]
     },
     "metadata": {},
     "output_type": "display_data"
    }
   ],
   "source": [
    "%% Plot Diss and choose K with the minimum average diss.\n",
    "f=fig(\"Choose K - \" + folder);\n",
    "plot(kset, Diss,'ko'), hold on\n",
    "h1 = plot(kset, quantile(Diss,0.5,2),'k-','linewidth',2);\n",
    "[~,K]  = max(diff(median(Diss,2)))\n",
    "h2 = plot([K,K],[0,0.5],'r--');\n",
    "legend([h1 h2], {'Median Diss','Possible K'})\n",
    "xlabel('K')\n",
    "ylabel('Diss')"
   ]
  },
  {
   "cell_type": "markdown",
   "metadata": {},
   "source": [
    "And let's look at how that appears when we now plot each invididual sample"
   ]
  },
  {
   "cell_type": "code",
   "execution_count": 188,
   "metadata": {
    "execution": {
     "iopub.execute_input": "2020-06-16T04:08:18.892703Z",
     "iopub.status.busy": "2020-06-16T04:08:18.892482Z",
     "iopub.status.idle": "2020-06-16T04:08:20.120574Z",
     "shell.execute_reply": "2020-06-16T04:08:20.119615Z",
     "shell.execute_reply.started": "2020-06-16T04:08:18.892688Z"
    }
   },
   "outputs": [
    {
     "data": {
      "image/png": "[encoded data removed]",
      "text/plain": [
       "<IPython.core.display.Image object>"
      ]
     },
     "metadata": {},
     "output_type": "display_data"
    }
   ],
   "source": [
    "fig('K sample plot');\n",
    "g=gramm('x', sDtable.k, 'y', sDtable.diss);\n",
    "g.set_stat_options('alpha',0.01);\n",
    "g.stat_summary('type','bootci').set_color_options('lightness',0.1, 'chroma',1);\n",
    "g.set_names('x','K','y','Dissimilarity');\n",
    "g.set_title('Bootstrap of mean(K)', 'FontSize', 18);\n",
    "g.draw();"
   ]
  },
  {
   "cell_type": "code",
   "execution_count": 180,
   "metadata": {
    "execution": {
     "iopub.execute_input": "2020-06-13T19:16:34.687894Z",
     "iopub.status.busy": "2020-06-13T19:16:34.687570Z",
     "iopub.status.idle": "2020-06-13T19:16:36.903534Z",
     "shell.execute_reply": "2020-06-13T19:16:36.902495Z",
     "shell.execute_reply.started": "2020-06-13T19:16:34.687870Z"
    }
   },
   "outputs": [
    {
     "data": {
      "image/png": "[encoded data removed]",
      "text/plain": [
       "<IPython.core.display.Image object>"
      ]
     },
     "metadata": {},
     "output_type": "display_data"
    }
   ],
   "source": [
    "fig('K Distribution');\n",
    "g=gramm('x', Dtable.diss);\n",
    "g.facet_wrap(Dtable.k);\n",
    "g.set_stat_options('alpha',0.01);\n",
    "g.stat_density('npoints',50).set_color_options('lightness',1,'chroma',1);\n",
    "g.set_names('y','Dissimilarity','row','K');\n",
    "g.set_title('Distribution of Diss over K', 'FontSize', 18);\n",
    "g=g.draw();\n",
    "set(g.facet_axes_handles,'xscale','log')"
   ]
  },
  {
   "cell_type": "code",
   "execution_count": 198,
   "metadata": {
    "execution": {
     "iopub.execute_input": "2020-06-16T04:15:34.168791Z",
     "iopub.status.busy": "2020-06-16T04:15:34.168126Z",
     "iopub.status.idle": "2020-06-16T04:15:35.769424Z",
     "shell.execute_reply": "2020-06-16T04:15:35.768618Z",
     "shell.execute_reply.started": "2020-06-16T04:15:34.168739Z"
    }
   },
   "outputs": [
    {
     "data": {
      "image/png": "[encoded data removed]",
      "text/plain": [
       "<IPython.core.display.Image object>"
      ]
     },
     "metadata": {},
     "output_type": "display_data"
    }
   ],
   "source": [
    "fig('K Distribution');\n",
    "g=gramm('x', Dtable.diss);\n",
    "g.facet_wrap(Dtable.k);\n",
    "g.set_stat_options('alpha',0.01);\n",
    "g.stat_density('npoints',50).set_color_options('lightness',1,'chroma',1);\n",
    "g.set_names('y','Dissimilarity','row','K');\n",
    "g.set_title('Distribution of Diss over K', 'FontSize', 18);\n",
    "g=g.draw();\n",
    "set(g.facet_axes_handles,'xscale','linear')"
   ]
  },
  {
   "cell_type": "markdown",
   "metadata": {},
   "source": [
    "Based on this, I would guess nearly all segments have good dissmilarity for $K=2$ and many segments have good dissimilarity in the $K\\in\\{3..5\\}$ range\n",
    "\n",
    "Perhaps a good metric to select $K$ would the maximal point at which the median dissimilarity changes. $d($median$(K))/dK$."
   ]
  },
  {
   "cell_type": "code",
   "execution_count": 199,
   "metadata": {
    "execution": {
     "iopub.execute_input": "2020-06-16T04:18:08.130698Z",
     "iopub.status.busy": "2020-06-16T04:18:08.129976Z",
     "iopub.status.idle": "2020-06-16T04:18:08.871620Z",
     "shell.execute_reply": "2020-06-16T04:18:08.870506Z",
     "shell.execute_reply.started": "2020-06-16T04:18:08.130640Z"
    }
   },
   "outputs": [
    {
     "name": "stdout",
     "output_type": "stream",
     "text": [
      "Largest disimilarity increases\n",
      "\n",
      "k =\n",
      "\n",
      "     8\n",
      "     6\n",
      "     5\n",
      "\n"
     ]
    },
    {
     "data": {
      "image/png": "[encoded data removed]",
      "text/plain": [
       "<IPython.core.display.Image object>"
      ]
     },
     "metadata": {},
     "output_type": "display_data"
    }
   ],
   "source": [
    "figure\n",
    "dDiss = diff(quantile(Diss,0.5,2));\n",
    "plot(dDiss)\n",
    "disp('Largest disimilarity increases')\n",
    "[~,k] = maxk(dDiss,3)\n",
    "xlabel('K')\n",
    "ylabel('d(Diss)/dK', 'interpreter', 'latex')\n",
    "l=line([0 12],[0 0]);\n",
    "set(l,'Color','black','linestyle',':')"
   ]
  },
  {
   "cell_type": "markdown",
   "metadata": {
    "execution": {
     "iopub.execute_input": "2020-06-13T19:19:21.489035Z",
     "iopub.status.busy": "2020-06-13T19:19:21.488797Z",
     "iopub.status.idle": "2020-06-13T19:19:21.544450Z",
     "shell.execute_reply": "2020-06-13T19:19:21.543543Z",
     "shell.execute_reply.started": "2020-06-13T19:19:21.489018Z"
    }
   },
   "source": [
    "At most some of the samples can acheive reasonable dissimilarity at $K=4$ or $5$ before it precipitously jumps at $K=6$."
   ]
  },
  {
   "cell_type": "code",
   "execution_count": 200,
   "metadata": {
    "execution": {
     "iopub.execute_input": "2020-06-16T04:19:31.576917Z",
     "iopub.status.busy": "2020-06-16T04:19:31.576410Z",
     "iopub.status.idle": "2020-06-16T04:19:56.844630Z",
     "shell.execute_reply": "2020-06-16T04:19:56.843700Z",
     "shell.execute_reply.started": "2020-06-16T04:19:31.576876Z"
    }
   },
   "outputs": [
    {
     "name": "stdout",
     "output_type": "stream",
     "text": [
      "\n",
      "mfile = \n",
      "\n",
      "  matlab.io.MatFile\n",
      "\n",
      "  Properties:\n",
      "      Properties.Source: '/home/ryoung/Projects/findParams/choosekrun.seqnmf_speccoh_1'\n",
      "    Properties.Writable: true                                                          \n",
      "                choosek: [1x1 struct]                                                  \n",
      "                   data: [1x1 struct]                                                  \n",
      "                 params: [ -  table]                                                   \n",
      "\n"
     ]
    }
   ],
   "source": [
    "K = 5;\n",
    "choosek.K = K;\n",
    "mfile.choosek = choosek"
   ]
  },
  {
   "cell_type": "markdown",
   "metadata": {},
   "source": [
    "Update mfile"
   ]
  },
  {
   "cell_type": "markdown",
   "metadata": {},
   "source": [
    "# Choosing $\\lambda$ and $\\lambda^{Hortho}$: regularization penalty"
   ]
  },
  {
   "cell_type": "markdown",
   "metadata": {},
   "source": [
    "Let's just setup our $\\lambda$ values to search over and some basic structures to record the data."
   ]
  },
  {
   "cell_type": "code",
   "execution_count": 201,
   "metadata": {
    "execution": {
     "iopub.execute_input": "2020-06-16T04:21:02.305158Z",
     "iopub.status.busy": "2020-06-16T04:21:02.304859Z",
     "iopub.status.idle": "2020-06-16T04:21:02.371435Z",
     "shell.execute_reply": "2020-06-16T04:21:02.369928Z",
     "shell.execute_reply.started": "2020-06-16T04:21:02.305136Z"
    }
   },
   "outputs": [
    {
     "name": "stdout",
     "output_type": "stream",
     "text": [
      "Samples = 20 with length = 24000 points for 10 minutes\n"
     ]
    }
   ],
   "source": [
    "nLambdas = 25; % increase if you're patient\n",
    "nSamp = 20;\n",
    "sample_length = round((60*10)/samprate);\n",
    "X = trainNEURAL;\n",
    "lambdas = sort([logspace(-3,-6,nLambdas)], 'ascend'); \n",
    "W1penalties = [0, 1e-7, 1e-6, 1e-5];\n",
    "loadings = [];\n",
    "cost  = zeros(nSamp, length(W1penalties),length(lambdas));\n",
    "regularization  = zeros(nSamp, length(W1penalties),length(lambdas));\n",
    "[Hs, Ws] = deal({});\n",
    "power  = zeros(nSamp, length(W1penalties),length(lambdas));\n",
    "[nFreq,nTime]=size(X);\n",
    "\n",
    "disp(\"Samples = \" + nSamp + \" with length = \" + sample_length +...\n",
    "     \" points for \" + (sample_length/60)*data.params.movingwin(2) + \" minutes\")"
   ]
  },
  {
   "cell_type": "markdown",
   "metadata": {},
   "source": [
    "And a structure to checkpoint it into."
   ]
  },
  {
   "cell_type": "code",
   "execution_count": 202,
   "metadata": {
    "execution": {
     "iopub.execute_input": "2020-06-16T04:21:33.565771Z",
     "iopub.status.busy": "2020-06-16T04:21:33.565487Z",
     "iopub.status.idle": "2020-06-16T04:21:33.582703Z",
     "shell.execute_reply": "2020-06-16T04:21:33.581848Z",
     "shell.execute_reply.started": "2020-06-16T04:21:33.565750Z"
    }
   },
   "outputs": [],
   "source": [
    "chooseLambda = struct();\n",
    "chooseLambda.Ws = {};\n",
    "chooseLambda.Hs = {};"
   ]
  },
  {
   "cell_type": "markdown",
   "metadata": {},
   "source": [
    "Run SeqNMF to measure the cost and regularization of those values."
   ]
  },
  {
   "cell_type": "code",
   "execution_count": 204,
   "metadata": {
    "execution": {
     "iopub.execute_input": "2020-06-16T04:22:00.317425Z",
     "iopub.status.busy": "2020-06-16T04:22:00.316866Z",
     "iopub.status.idle": "2020-06-16T04:24:29.955453Z",
     "shell.execute_reply": "2020-06-16T04:24:29.954649Z",
     "shell.execute_reply.started": "2020-06-16T04:22:00.317381Z"
    }
   },
   "outputs": [
    {
     "name": "stdout",
     "output_type": "stream",
     "text": [
      "\n",
      "prog = \n",
      "\n",
      "  ProgressBar with properties:\n",
      "\n",
      "     TIMER_TAG_NAME: 'ProgressBar'\n",
      "            VERSION: '3.1.0'\n",
      "              Total: 4000\n",
      "              Title: 'Choosing lambda'\n",
      "         UpdateRate: 5\n",
      "               Unit: 'Iterations'\n",
      "    WorkerDirectory: '/tmp/'\n",
      "         UseUnicode: true\n",
      "         IsParallel: false\n",
      "\n",
      "Starting loop\n",
      "\n",
      "SeqNMF_gpu:  000%  |                                        | 0/150 [00:00:00<Inf:NaN:NaN, Inf it/s"
     ]
    },
    {
     "name": "stderr",
     "output_type": "stream",
     "text": [
      "\u001b[0;31mError using eval\n",
      "Unrecognized function or variable 's'.\n",
      "\n",
      "\u001b[0m"
     ]
    }
   ],
   "source": [
    "diary_file = '~/Data/deltacoherence/findParams/lambdadiary-choosekrun.seqnmf_speccoh_1';\n",
    "delete(diary_file)\n",
    "diary(diary_file)\n",
    "clear prog\n",
    "prog = ProgressBar(numel(W1penalties) * numel(lambdas) * nSamp * 2, 'Title', 'Choosing lambda')\n",
    "\n",
    "% Which sample ranges\n",
    "samples = randi([1, nTime-sample_length], 1, nSamp)';\n",
    "samples = [samples, samples+sample_length];\n",
    "\n",
    "disp('Starting loop')\n",
    "for samp = 1:nSamp\n",
    "    for lambdaType = {'lambdaH','lambda'}\n",
    "    for li = 1:numel(lambdas)\n",
    "        for wi = 1:numel(W1penalties)\n",
    "        \n",
    "            if cost(samp,wi,li) ~= 0\n",
    "                prog.step([],[],[])\n",
    "                skip = true;\n",
    "                continue\n",
    "            else\n",
    "                skip = false;\n",
    "            end\n",
    "                \n",
    "            W1penality = W1penalties(wi);\n",
    "            [N,T] = size(X);\n",
    "            \n",
    "            \n",
    "            kws = {'lambda', single(0), 'lambdaOrthoH', single(0)};\n",
    "            switch lambdaType{1}\n",
    "            case 'lambda'\n",
    "                kws{2} = single(lambdas(li));\n",
    "            case 'lambdaOrthoH'\n",
    "                kws{4} = single(lambdas(li));\n",
    "            end\n",
    "            \n",
    "            [Ws{samp, wi,li},...\n",
    "             Hs{samp, wi,li}, ~, ...\n",
    "             loadings(samp, wi, li,:),...\n",
    "             power(samp,wi,li)] = ...\n",
    "                seqNMF_gpu(X(:, samples(samp,1):samples(samp,2)), ...\n",
    "                'K',single(K),...\n",
    "                'L',single(L),... \n",
    "                'maxiter', 150, ...\n",
    "                'showPlot', 0, ...\n",
    "                'lambdaL1H', single(W1penality),...\n",
    "                kws{:}); \n",
    "                \n",
    "\n",
    "            [cost(samp, wi, li),regularization(samp, wi, li),~] = ...\n",
    "                helper.get_seqNMF_cost(X(:,samples(samp,1):samples(samp,2)),...\n",
    "                                       Ws{samp,wi,li},...\n",
    "                                       Hs{samp,wi,li});\n",
    "            prog.step([],[],[]);\n",
    "\n",
    "        end\n",
    "\n",
    "        % Save values to struct\n",
    "        vals = {'loadings', loadings, 'power', power, ...\n",
    "                'cost', cost, 'regularization', regularization, ...\n",
    "                'W1penalties', W1penalties, 'lambdas', lambdas};\n",
    "        for v = 1:2:numel(vals)\n",
    "            chooseLambda.(vals{v}) = vals{v+1};\n",
    "        end\n",
    "        chooseLambda.Hs = Hs;\n",
    "        chooseLambda.Ws = Ws;\n",
    "        \n",
    "    end\n",
    "    end\n",
    "    \n",
    "    % Save struct to file\n",
    "    if ~skip\n",
    "        mfile.chooseLambdaK5 = chooseLambda;\n",
    "    end\n",
    "    \n",
    "end"
   ]
  },
  {
   "cell_type": "markdown",
   "metadata": {},
   "source": [
    "We  will eventually have to interpolate the lambdas we measured to optomize"
   ]
  },
  {
   "cell_type": "code",
   "execution_count": 88,
   "metadata": {},
   "outputs": [],
   "source": [
    "lambdainterp = linspace(min(lambdas), max(lambdas), 5e6);\n",
    "I = @(x,y) interp1(x,y,lambdainterp,'linear');"
   ]
  },
  {
   "cell_type": "code",
   "execution_count": 12,
   "metadata": {},
   "outputs": [
    {
     "name": "stdout",
     "output_type": "stream",
     "text": [
      "\n",
      "ans =\n",
      "\n",
      "  1x1 cell array\n",
      "\n",
      "    {'Properties'}\n",
      "\n",
      "restoring variables\n",
      "restored.\n"
     ]
    }
   ],
   "source": [
    "fieldnames(mfile)\n",
    "chooseLambda = mfile.chooseLambda;\n",
    "utils.restoreVariables(chooseLambda);"
   ]
  },
  {
   "cell_type": "code",
   "execution_count": 10,
   "metadata": {},
   "outputs": [
    {
     "name": "stderr",
     "output_type": "stream",
     "text": [
      "\u001b[0;31mIndex in position 1 is invalid. Array indices must be positive integers or logical values.\n",
      "\n",
      "\u001b[0m"
     ]
    },
    {
     "data": {
      "image/png": "[encoded data removed]",
      "text/plain": [
       "<IPython.core.display.Image object>"
      ]
     },
     "metadata": {},
     "output_type": "display_data"
    }
   ],
   "source": [
    "clear F\n",
    "F= {};\n",
    "targetLambdas = [];\n",
    "reg = [];\n",
    "Csi = {};\n",
    "Rsi = {};\n",
    "%% plot costs as a function of lambda\n",
    "for wi = 1:length(W1penalties)\n",
    "    fig([folder ' WL1 = ' + string(W1penalties(wi))]); clf\n",
    "    F{end+1} = gcf;\n",
    "    windowSize = 3; \n",
    "    b = (1/windowSize)*ones(1,windowSize);\n",
    "    a = 1;\n",
    "    %Filter regularization penalty\n",
    "    Rs = filtfilt(b,a,regularization(wi,:)); % Filtered regularization\n",
    "    % Normalize reg penalty\n",
    "    minRs = prctile(regularization(wi,:),10); \n",
    "    maxRs = prctile(regularization(wi,:),90);\n",
    "    Rs = (Rs-minRs)/(maxRs-minRs); % filtered: 0 to 1\n",
    "    R = (regularization(wi,:)-minRs)/(maxRs-minRs);  % unfiltered: 0 to 1\n",
    "    Cs = filtfilt(b,a,cost(wi,:));  % filter cost\n",
    "    minCs =  prctile(cost(wi,:),10); maxCs =  prctile(cost(wi,:),90);\n",
    "    Cs = (Cs -minCs)/(maxCs-minCs); % filtered : Scale cost 0 to 1\n",
    "    C = (cost(wi,:) -minCs)/(maxCs-minCs);  % unfiltered : Scale cost 0 to 1\n",
    "    % Plot crossing\n",
    "    clf; hold on\n",
    "    Rsi{wi} = I(lambdas,Rs);\n",
    "    Csi{wi} = I(lambdas,Cs);\n",
    "    plot(lambdainterp,Rsi{wi}, 'b')\n",
    "    plot(lambdainterp,I(lambdas,Csi{wi}),'r')\n",
    "    scatter(lambdas, R, 'b', 'markerfacecolor', 'flat');\n",
    "    scatter(lambdas, C, 'r', 'markerfacecolor', 'flat');\n",
    "    xlabel('Lambda'); ylabel('Cost (au)')\n",
    "    set(legend('Correlation cost', 'Reconstruction cost'), 'Box', 'on')\n",
    "    set(gca, 'xscale', 'log', 'ytick', [], 'color', 'none')\n",
    "    set(gca,'color','none','tickdir','out','ticklength', [0.025, 0.025])\n",
    "    [~,targetLambdas(end+1)] = min( abs(I(lambdas, Cs)-I(lambdas,Rs)) );\n",
    "    targetLambdas(end) = lambdainterp(targetLambdas(end));\n",
    "end"
   ]
  },
  {
   "cell_type": "markdown",
   "metadata": {},
   "source": [
    "Let's examine what those $W$s look like on well-optomized sets"
   ]
  },
  {
   "cell_type": "code",
   "execution_count": null,
   "metadata": {},
   "outputs": [],
   "source": []
  },
  {
   "cell_type": "markdown",
   "metadata": {},
   "source": [
    "Finally, let's checkout the 3d curve for the above"
   ]
  },
  {
   "cell_type": "code",
   "execution_count": null,
   "metadata": {},
   "outputs": [],
   "source": []
  },
  {
   "cell_type": "code",
   "execution_count": null,
   "metadata": {},
   "outputs": [],
   "source": [
    "fig([folder ' W1 relation to penalty']); clf;\n",
    "F{end+1} = gcf;\n",
    "plot(W1penalties, targetLambdas, '*:');\n",
    "set(gca,'xscale','linear');\n",
    "title(sprintf('Corrcoeff = %0.2f %0.2f %0.2f %0.2f', corrcoef([W1penalties', targetLambdas'])));\n",
    "chooseLambda = struct('loadings', loadings, 'power', power, ...\n",
    "                        'cost', cost, 'regularization', regularization, ...\n",
    "                        'W1penalties', W1penalties, 'lambdas', lambdas, 'targetLambdas', targetLambdas);\n",
    "                        "
   ]
  },
  {
   "cell_type": "code",
   "execution_count": null,
   "metadata": {},
   "outputs": [],
   "source": [
    "clear chooseLambda\n",
    "chooseLambda.Ws = Ws;\n",
    "chooseLambda.Hs = Hs;\n",
    "chooseLambda.F = F;\n",
    "mfile.chooseLambda = chooseLambda;"
   ]
  },
  {
   "cell_type": "code",
   "execution_count": null,
   "metadata": {},
   "outputs": [
    {
     "name": "stdout",
     "output_type": "stream",
     "text": [
      "the MATLAB function has been cancelled\n"
     ]
    }
   ],
   "source": [
    "%Code to fix improper save structure\n",
    "% chooseLambda = mfile.chooseLambda;\n",
    "% Ws = reshape({chooseLambda.Ws}, size(chooseLambda));\n",
    "% Hs = reshape({chooseLambda.Hs}, size(chooseLambda));\n",
    "% chooseLambda = chooseLambda(end);\n",
    "% chooseLambda.W1penalties = W1penalties;\n",
    "% chooseLambda.lambdas     = targetLambdas;\n",
    "% chooseLambda.Ws     = Ws;\n",
    "% chooseLambda.Hs     = Hs;\n",
    "% mfile.chooseLambda = chooseLambda;"
   ]
  },
  {
   "cell_type": "markdown",
   "metadata": {
    "toc-hr-collapsed": true,
    "toc-nb-collapsed": true
   },
   "source": [
    "# Choose *${\\lambda}_{H}$*"
   ]
  },
  {
   "cell_type": "markdown",
   "metadata": {},
   "source": [
    "## Strategy 1: With former $\\lambda-W_1$ pairs"
   ]
  },
  {
   "cell_type": "code",
   "execution_count": null,
   "metadata": {},
   "outputs": [],
   "source": [
    "chooseLambda = mfile.chooseLambda;\n",
    "\n",
    "%% Procedure for choosing lambda\n",
    "paramChoices = 1:numel(chooseLambda.targetLambdas);\n",
    "nLambdas = 30; % increase if you're patient\n",
    "X = trainNEURAL;\n",
    "ortholambdas = sort([logspace(-1,-7,nLambdas)], 'ascend'); \n",
    "% Preallocate\n",
    "clear loadings cost regularization Hs Ws power\n",
    "%loadings = [];\n",
    "%cost  = zeros(length(W1penalties),length(lambdas));\n",
    "%regularization  = zeros(length(W1penalties),length(lambdas));\n",
    "%[Hs, Ws] = deal(cell(numel(lambdas),numel(W1penalties)));\n",
    "%power  = zeros(length(W1penalties),length(lambdas));\n",
    "\n",
    "[N,T] = size(X);\n",
    "[OLAM, FITS] = meshgrid(1:numel(ortholambdas), 1:numel(paramChoices));\n",
    "\n",
    "prog = ProgressBar(2 * numel(OLAM), 'Title', 'Choosing lambda')\n",
    "\n",
    "dissimilarity_index = 2; \n",
    "\n",
    "while dissimilarity_index <= 4\n",
    "    for use_lam = [1, 0]\n",
    "        for row = 1:numel(OLAM)\n",
    "                if size(Ws,1) >= dissimilarity_index && ~isempty(Ws{dissimilarity_index, use_lam+1, row})\n",
    "                    disp(\"Continuing\")\n",
    "                    continue\n",
    "                end\n",
    "                display(['OrthoH opt: Testing paramset ' num2str(row) '/' num2str(numel(row)*2)])\n",
    "                % Indices and parameters to describe the computation in this cycle\n",
    "                i = FITS(row)\n",
    "                orthoi = OLAM(row);\n",
    "                W1penality = W1penalties(i);\n",
    "                if use_lam\n",
    "                    lambda = targetLambdas(i);\n",
    "                else\n",
    "                    lambda = 0;\n",
    "                end\n",
    "                % SeqNMF\n",
    "                [Ws{dissimilarity_index, use_lam+1, row}, Hs{dissimilarity_index, use_lam+1, row}, ...\n",
    "                 C, loadings(dissimilarity_index, use_lam+1, row,:),...\n",
    "                 power(dissimilarity_index, use_lam+1, row)] = ...\n",
    "                    seqNMF_gpu(X, ...\n",
    "                    'K',single(K),...\n",
    "                    'L',single(L),...\n",
    "                    'lambda', lambda,...\n",
    "                    'lambdaOrthoH', single(ortholambdas(li)),...\n",
    "                    'maxiter', 150,...\n",
    "                    'showPlot', 0, ...\n",
    "                    'lambdaL1H', single(W1penality)); \n",
    "                % Compute the cost and reugularization penalty\n",
    "                [cost(dissimilarity_index, use_lam+1, row),...\n",
    "                 regularization(dissimilarity_index, use_lam+1, row), ~] =... \n",
    "                 helper.get_seqNMF_cost(X,Ws{dissimilarity_index, use_lam+1, row},...\n",
    "                                        Hs{dissimilarity_index, use_lam+1, row});\n",
    "                % Save the results\n",
    "                chooseLambdaOrthoH = struct('loadings', loadings, ...\n",
    "                                            'power', power, ...\n",
    "                                            'cost', cost,...\n",
    "                                            'regularization', regularization, ...\n",
    "                                            'W1penalties', W1penalties,...\n",
    "                                            'lambdas', lambdas,...\n",
    "                                            'orthoi', orthoi,...\n",
    "                                            'i', 1:numel(OLAM),...\n",
    "                                            'use_lam', [1,0]);\n",
    "        end\n",
    "    end\n",
    "    mfile.chooseLambdaOrthoH = chooseLambdaOrthoH;\n",
    "    mfile.chooseLambdaOrthoH_Hs = Hs;\n",
    "    mfile.chooseLambdaOrthoH_Ws = Ws;\n",
    "    dissimilarity_index = dissimilarity_index + 1;\n",
    "end\n",
    "\n",
    "% Okay now we need to compute dissimilarity\n",
    "Diss = zeros(size(Hs));\n",
    "inds = nchoosek(1:dissimilarity_index,2);\n",
    "for comp = 1:size(inds,1)\n",
    "    for i = 1:size(Hs,2)\n",
    "        for j = 1:size(Hs,3)\n",
    "            disp(comp + \",\" + i + \",\" + j);\n",
    "            Diss(comp,i,j) = ...\n",
    "            helper.DISSX(Hs{inds(i,1),i,j},...\n",
    "                         Ws{inds(i,1),i,j},...\n",
    "                         Hs{inds(i,2),i,j},...\n",
    "                         Ws{inds(i,2),i,j},'gpu',true);\n",
    "        end\n",
    "    end\n",
    "end\n",
    "\n",
    "[OLAM, FITS] = ndgrid(1:numel(ortholambdas), 1:numel(paramChoices));"
   ]
  },
  {
   "cell_type": "code",
   "execution_count": null,
   "metadata": {},
   "outputs": [],
   "source": [
    "% Visualize dissimilarity surfaces!\n",
    "muDiss = squeeze(mean(Diss));\n",
    "% Color use_lam = 0\n",
    "sz = size(OLAM);\n",
    "msz = max(sz);\n",
    "CO1(:,:,1) = zeros(sz); % red\n",
    "CO1(:,:,2) = ones(sz).*linspace(0.5,0.6,msz); % green\n",
    "CO1(:,:,3) = ones(sz).*linspace(0,1,msz); % blue\n",
    "% Color use_lam = 1\n",
    "CO2(:,:,3) = zeros(sz); % red\n",
    "CO2(:,:,1) = ones(sz).*linspace(0.5,0.6,msz); % green\n",
    "CO2(:,:,2) = ones(sz).*linspace(0,1,msz); % blue\n",
    "fig('LambdaOrthoH-no-smoothing');clf\n",
    "s1 = surf(ortholambdas(OLAM), paramChoices(FITS), reshape(muDiss(1,:), sz), CO1);\n",
    "xlabel('\\lambda^{\\perp}_{H}')\n",
    "ylabel('\\lambda & W1 choice')\n",
    "%s1 = surf(ortholambdas(OLAM), paramChoices(FITS), reshape(muDiss(1,:), sz), CO1);\n",
    "set(gca,'xscale','log')\n",
    "hold on\n",
    "s2 = surf(ortholambdas(OLAM), paramChoices(FITS), reshape(muDiss(2,:), sz), CO2);\n",
    "%s2 = surf(ortholambdas(OLAM), paramChoices(FITS), reshape(muDiss(2,:), sz), CO2);\n",
    "set(gca,'xscale','log')\n",
    "alpha(s1,0.5);\n",
    "alpha(s2,0.5);\n",
    "legend([s1, s2], 'Overall Lambda = false', 'Overall Lambda = true');"
   ]
  },
  {
   "cell_type": "code",
   "execution_count": null,
   "metadata": {},
   "outputs": [],
   "source": [
    "% Visualize dissimilarity surfaces!\n",
    "muDiss = squeeze(mean(Diss));\n",
    "% Color use_lam = 0\n",
    "sz = size(OLAM);\n",
    "msz = max(sz);\n",
    "CO1(:,:,1) = zeros(sz); % red\n",
    "CO1(:,:,2) = ones(sz).*linspace(0.5,0.6,msz); % green\n",
    "CO1(:,:,3) = ones(sz).*linspace(0,1,msz); % blue\n",
    "% Color use_lam = 1\n",
    "CO2(:,:,3) = zeros(sz); % red\n",
    "CO2(:,:,1) = ones(sz).*linspace(0.5,0.6,msz); % green\n",
    "CO2(:,:,2) = ones(sz).*linspace(0,1,msz); % blue\n",
    "fig('LambdaOrthoH-smoothing');clf\n",
    "s1 = surf(ortholambdas(OLAM), paramChoices(FITS), squeeze(smooth3(shiftdim(reshape(muDiss(1,:), sz),-1))), CO1);\n",
    "xlabel('\\lambda^{\\perp}_{H}')\n",
    "ylabel('\\lambda & W1 choice')\n",
    "%s1 = surf(ortholambdas(OLAM), paramChoices(FITS), reshape(muDiss(1,:), sz), CO1);\n",
    "set(gca,'xscale','log')\n",
    "hold on\n",
    "s2 = surf(ortholambdas(OLAM), paramChoices(FITS), squeeze(smooth3(shiftdim(reshape(muDiss(2,:), sz),-1))), CO2);\n",
    "%s2 = surf(ortholambdas(OLAM), paramChoices(FITS), reshape(muDiss(2,:), sz), CO2);\n",
    "set(gca,'xscale','log')\n",
    "alpha(s1,0.5);\n",
    "alpha(s2,0.5);\n",
    "legend([s1, s2], 'Overall Lambda = false', 'Overall Lambda = true');"
   ]
  },
  {
   "cell_type": "code",
   "execution_count": null,
   "metadata": {},
   "outputs": [],
   "source": [
    "regularizationSurfaces = containers.Map('KeyType', 'int32', 'ValueType', 'any');\n",
    "costSurfaces = containers.Map('KeyType', 'int32', 'ValueType', 'any');\n",
    "clear CO1 CO2\n",
    "[OLAM, FITS] = meshgrid(1:numel(ortholambdas), 1:numel(paramChoices));\n",
    "smoothit=false;\n",
    "for use_lam = [0,1]\n",
    "    % Visualize dissimilarity surfaces!\n",
    "    sz = size(OLAM);\n",
    "    msz = max(sz);\n",
    "    muReg = squeeze(mean(regularization(:,use_lam+1,:)));\n",
    "    muCost = squeeze(mean(cost(:,use_lam+1,:)));\n",
    "    muReg = reshape(muReg, sz);\n",
    "    muCost = reshape(muCost, sz);\n",
    "    if smoothit\n",
    "        muReg = squeeze(smooth3(shiftdim(muReg,-1)));\n",
    "        muCost = squeeze(smooth3(shiftdim(muCost,-1)));\n",
    "    end\n",
    "    % Normalize\n",
    "    muCost=(muCost-min(muCost,[],'all'))./(max(muCost,[],'all')-min(muCost,[],'all'));\n",
    "    muReg=(muReg-min(muReg,[],'all'))./(max(muReg,[],'all')-min(muReg,[],'all'));\n",
    "    % Color use_lam = 0\n",
    "    CO1(:,:,1) = zeros(sz); % red\n",
    "    CO1(:,:,2) = (ones(sz).*linspace(0.5,0.6,msz)); % green\n",
    "    CO1(:,:,3) = (ones(sz).*linspace(0,1,msz)); % blue\n",
    "    % Color use_lam = 1\n",
    "    CO2(:,:,3) = zeros(sz); % red\n",
    "    CO2(:,:,1) = (ones(sz).*linspace(0.5,0.6,msz)); % green\n",
    "    CO2(:,:,2) = (ones(sz).*linspace(0,1,msz)); % blue\n",
    "    f=fig(\"CostReg uselam=\" + use_lam);figure(f);clf\n",
    "    cs = reshape(muReg(:), sz);\n",
    "    costSurfaces(use_lam) = cs;\n",
    "    s1 = surf(ortholambdas(OLAM), paramChoices(FITS), costSurfaces(use_lam), CO1);\n",
    "    xlabel('\\lambda^{\\perp}_{H}')\n",
    "    ylabel('\\lambda & W1 choice')\n",
    "    %s1 = surf(ortholambdas(OLAM), paramChoices(FITS), reshape(muDiss(1,:), sz), CO1);\n",
    "    set(gca,'xscale','log')\n",
    "    hold on\n",
    "    rs = reshape(muCost(:), sz);\n",
    "    regularizationSurfaces(use_lam) = rs;\n",
    "    s2 = surf(ortholambdas(OLAM), paramChoices(FITS), rs, CO2);\n",
    "    OL = ortholambdas(OLAM);\n",
    "    PC = paramChoices(FITS);\n",
    "    %s2 = surf(ortholambdas(OLAM), paramChoices(FITS), reshape(muDiss(2,:), sz), CO2);\n",
    "    set(gca,'xscale','log')\n",
    "    alpha(s1,0.5);\n",
    "    alpha(s2,0.5);\n",
    "    legend([s1, s2], 'Regularization', 'Cost');\n",
    "end"
   ]
  },
  {
   "cell_type": "markdown",
   "metadata": {},
   "source": [
    "## Strategy 2: without $\\lambda$"
   ]
  },
  {
   "cell_type": "code",
   "execution_count": null,
   "metadata": {},
   "outputs": [],
   "source": []
  },
  {
   "cell_type": "code",
   "execution_count": null,
   "metadata": {},
   "outputs": [],
   "source": [
    "Ws = {};\n",
    "Hs = {};\n",
    "numfits = 3; %number of fits to compare\n",
    "for k = 1:12\n",
    "    display(sprintf('running seqNMF with K = %i',k))\n",
    "    for ii = 1:numfits\n",
    "        [Ws{ii,k},Hs{ii,k}] = seqNMF_gpu(X,'K',k, 'L', L,'lambda', 0,'maxiter',100,'showplot',0); \n",
    "        % note that max iter set low (30iter) for speed in demo (not recommended in practice)\n",
    "    end\n",
    "    inds = nchoosek(1:numfits,2);\n",
    "    for i = 1:size(inds,1) % consider using parfor for larger numfits\n",
    "            Diss(i,k) = helper.DISSX(Hs{inds(i,1),k},Ws{inds(i,1),k},Hs{inds(i,2),k},Ws{inds(i,2),k});\n",
    "    end\n",
    "    \n",
    "end\n",
    "toc\n",
    "%% Plot Diss and choose K with the minimum average diss.\n",
    "figure,\n",
    "plot(1:10,Diss,'ko'), hold on\n",
    "h1 = plot(1:10,median(Diss,1),'k-','linewidth',2);\n",
    "h2 = plot([3,3],[0,0.5],'r--');\n",
    "legend([h1 h2], {'median Diss','true K'})\n",
    "xlabel('K')\n",
    "ylabel('Diss')"
   ]
  },
  {
   "cell_type": "markdown",
   "metadata": {},
   "source": []
  },
  {
   "cell_type": "code",
   "execution_count": null,
   "metadata": {},
   "outputs": [],
   "source": [
    "display('Testing significance of factors on held-out data')\n",
    "[pvals,is_significant] = test_significance(testNEURAL,W);\n",
    "\n",
    "W = W(:,is_significant,:); \n",
    "H = H(is_significant,:); "
   ]
  },
  {
   "cell_type": "code",
   "execution_count": null,
   "metadata": {},
   "outputs": [],
   "source": [
    "tic\n",
    "loadings = [];\n",
    "pvals = []; \n",
    "is_significant = []; \n",
    "X = trainNEURAL;\n",
    "nIter = 20; % increase if patient\n",
    "display('Running seqNMF multiple times for lambda=0.005')\n",
    "\n",
    "for iteri = 1:nIter\n",
    "    [W, H, ~,loadings(iteri,:),power]= seqNMF(X,'K',K,'L',Lneural,...\n",
    "            'lambdaL1H', .1, 'lambda', targetLambda, 'maxiter', 100, 'showPlot', 0); \n",
    "    p = .05;\n",
    "    [pvals(iteri,:),is_significant(iteri,:)] = test_significance(testNEURAL,W);\n",
    "    W = W(:,is_significant(iteri,:)==1,:); \n",
    "    H = H(is_significant(iteri,:)==1,:); \n",
    "    [max_factor, L_sort, max_sort, hybrid] = helper.ClusterByFactor(W(:,:,:),1);\n",
    "    indSort = hybrid(:,3);\n",
    "    tstart = 300; \n",
    "    clf; WHPlot(W(indSort,:,:),H(:,tstart:end), X(indSort,tstart:end), 0,...\n",
    "                 trainSONG(:,floor(tstart*SONGfs/VIDEOfs):end))\n",
    "    display(['seqNMF run ' num2str(iteri) '/' num2str(nIter)])\n",
    "end\n",
    "figure; hold on\n",
    "h = histogram(sum(is_significant,2), 'edgecolor', 'w', 'facecolor', .7*[1 1 1]); \n",
    "h.BinCounts = h.BinCounts/sum(h.BinCounts)*100; \n",
    "xlim([0 10]); \n",
    "xlabel('# significant factors')\n",
    "ylabel('% seqNMF runs')\n",
    "\n",
    "%% Plot factor-triggered song examples and rastors\n",
    "addpath(genpath('misc_elm')); \n",
    "figure; HTriggeredSpec(H,trainSONG,VIDEOfs,SONGfs,Lsong); \n",
    "%figure; HTriggeredRaster(H,trainNEURAL(indSort,:),Lneural);\n"
   ]
  }
 ],
 "metadata": {
  "kernelspec": {
   "display_name": "Matlab [conda env:root] *",
   "language": "matlab",
   "name": "conda-root-matlab"
  },
  "language_info": {
   "codemirror_mode": "octave",
   "file_extension": ".m",
   "help_links": [
    {
     "text": "MetaKernel Magics",
     "url": "https://metakernel.readthedocs.io/en/latest/source/README.html"
    }
   ],
   "mimetype": "text/x-octave",
   "name": "matlab",
   "version": "0.16.9"
  }
 },
 "nbformat": 4,
 "nbformat_minor": 4
}
